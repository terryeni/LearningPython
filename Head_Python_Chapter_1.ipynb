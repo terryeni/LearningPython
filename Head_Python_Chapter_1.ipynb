{
 "cells": [
  {
   "cell_type": "markdown",
   "metadata": {},
   "source": [
    "learing how to use the if/else statement "
   ]
  },
  {
   "cell_type": "code",
   "execution_count": null,
   "metadata": {},
   "outputs": [],
   "source": [
    "from datetime import datetime \n",
    "odds = [ 1, 3, 5, 7, 9, 11, 13, 15, 17, 19,\n",
    "        21, 23, 25, 27, 29, 31, 33, 35, 37, 39,\n",
    "        41, 43, 45, 47, 49, 51, 53, 55, 57, 59 ]\n",
    "right_this_minute = datetime.today().minute\n",
    "\n",
    "if right_this_minute in odds:\n",
    "    print (\"This minute seems a little odd. \")\n",
    "else:\n",
    "    print (\"Not an odd minute. \")"
   ]
  },
  {
   "cell_type": "markdown",
   "metadata": {},
   "source": [
    "Will use the code below to learn how to loop over for specific number of times "
   ]
  },
  {
   "cell_type": "code",
   "execution_count": null,
   "metadata": {},
   "outputs": [],
   "source": [
    "from datetime import datetime\n",
    "odds = [ 1, 3, 5, 7, 9, 11, 13, 15, 17, 19,\n",
    "        21, 23, 25, 27, 29, 31, 33, 35, 37, 39,\n",
    "        41, 43, 45, 47, 49, 51, 53, 55, 57, 59 ]\n",
    "\n",
    "for i in range (7):\n",
    "    right_this_minute = datetime.today().minute\n",
    "    if right_this_minute in odds:\n",
    "        print (\"This minute seems a little odd.\")\n",
    "    else:\n",
    "        print (\"This is NOT an odd minute.\")"
   ]
  },
  {
   "cell_type": "markdown",
   "metadata": {},
   "source": [
    "loop over five times\n",
    "let the code pause for few (random) second before execution\n"
   ]
  },
  {
   "cell_type": "code",
   "execution_count": 2,
   "metadata": {},
   "outputs": [
    {
     "name": "stdout",
     "output_type": "stream",
     "text": [
      "This is NOT an ODD minute\n",
      "This is an ODD minute\n",
      "This is NOT an ODD minute\n",
      "This is NOT an ODD minute\n",
      "This is an ODD minute\n"
     ]
    }
   ],
   "source": [
    "from datetime import datetime\n",
    "import random\n",
    "import time\n",
    "\n",
    "odds= [1,3,5,7,9,11,13,15,17,19,\n",
    "        21,23,25,27,29,31,33,35,37,39,\n",
    "        41,43,45,47,49,51,53,55,57,59]\n",
    "for i in range (5):\n",
    "    this_minute = datetime.today().minute\n",
    "    if this_minute in odds:\n",
    "        print (\"This is an ODD minute\")\n",
    "    else:\n",
    "        print (\"This is NOT an ODD minute\")\n",
    "    wait_time = random.randint(1, 60)\n",
    "    time.sleep(wait_time)\n",
    "\n",
    "\n"
   ]
  },
  {
   "cell_type": "code",
   "execution_count": 1,
   "metadata": {},
   "outputs": [
    {
     "name": "stdout",
     "output_type": "stream",
     "text": [
      "US floor 11\n"
     ]
    }
   ],
   "source": [
    "# convert elevator floors\n",
    "inp = input ('Europe floor?' )\n",
    "usf = int(inp) + 1\n",
    "print ('US floor' , usf)"
   ]
  },
  {
   "cell_type": "code",
   "execution_count": 2,
   "metadata": {},
   "outputs": [
    {
     "name": "stdout",
     "output_type": "stream",
     "text": [
      "Pay: 1200.0\n"
     ]
    }
   ],
   "source": [
    "# learning how to take user input, convert into a float then produce value\n",
    "\n",
    "hours = input (\"Enter Hours:\")\n",
    "rate = input (\"Enter Rate:\")\n",
    "pay = float (hours) * float (rate)\n",
    "\n",
    "print (\"Pay:\", pay)"
   ]
  },
  {
   "cell_type": "code",
   "execution_count": null,
   "metadata": {},
   "outputs": [],
   "source": [
    "#Comparison Operators\n",
    "\n",
    "x = 5\n",
    "if x == 5 : \n",
    "    print (\"Equals 5 \")\n",
    "if x > 4 : \n",
    "    print (\"Greater than 4\")\n",
    "if x >= 5 : \n",
    "    print (\"Greater than or Equals 5\")\n",
    "if x < 6 : \n",
    "    print (\"Less than 6\")\n",
    "if x <= 5 : \n",
    "    print (\"Less than or Equals 5\")\n",
    "if x != 6 : \n",
    "    print (\"Not equal 6\")"
   ]
  },
  {
   "cell_type": "code",
   "execution_count": null,
   "metadata": {},
   "outputs": [],
   "source": [
    "name = (\"Terry\")\n",
    "\n",
    "for name in range (5):\n",
    "    if name == (\"Terry\"):\n",
    "       print (\"We found Terry\")\n",
    "    else:\n",
    "       print (\"Were is Terry\")\n",
    "\n",
    "#print (name)"
   ]
  },
  {
   "cell_type": "code",
   "execution_count": 3,
   "metadata": {},
   "outputs": [
    {
     "name": "stdout",
     "output_type": "stream",
     "text": [
      "We found him...,\n",
      "Hurrey! we found Terry!\n"
     ]
    }
   ],
   "source": [
    "name = (\"Terry\")\n",
    "\n",
    "for i in range (1):\n",
    "    if name == (\"Terry\"):\n",
    "        print (\"We found him...,\")\n",
    "    else:\n",
    "        print (\"Were is Terry\")\n",
    "\n",
    "print (\"Hurrey! we found\",name+ \"!\")"
   ]
  },
  {
   "cell_type": "code",
   "execution_count": 4,
   "metadata": {},
   "outputs": [
    {
     "name": "stdout",
     "output_type": "stream",
     "text": [
      "x is 20 and it is larger that both 2 and 10\n",
      "All done with the elif checks\n",
      "Welcome Terry\n"
     ]
    }
   ],
   "source": [
    "#Multi-way conditional logic: using the elif statement\n",
    "\n",
    "x = 20\n",
    "if x < 2 :\n",
    "    print (\"x is less than 2\")\n",
    "elif x < 10:\n",
    "    print (\"x is less than 10\")\n",
    "else :\n",
    "    print (\"x is 20 and it is larger that both 2 and 10\")\n",
    "\n",
    "print (\"All done with the elif checks\")\n",
    "\n",
    "# learning catch statement and using the user input\n",
    "name = input(\"What is you name?\")\n",
    "\n",
    "if name == (\"John\"):\n",
    "    print (\"Welcome John\")\n",
    "elif name == (\"Terry\"):\n",
    "    print (\"Welcome Terry\")\n",
    "\n",
    "else:\n",
    "    print (\"Sorry Access denied\")"
   ]
  },
  {
   "cell_type": "code",
   "execution_count": 8,
   "metadata": {},
   "outputs": [
    {
     "name": "stdout",
     "output_type": "stream",
     "text": [
      "600.0\n"
     ]
    }
   ],
   "source": [
    "hours = input(\"Enter Hours:\")\n",
    "#rate = input (\"Enter Rate:\")\n",
    "\n",
    "h = float(hours)\n",
    "#r = float (rate)\n",
    "\n",
    "#pay = h * r\n",
    "if h <= 39.99:\n",
    "    pay = h * 10.5\n",
    "    print (pay)\n",
    "elif h >= 40:\n",
    "    pay = 10 * h * 1.5\n",
    "    print (pay)\n",
    "else: print (\"Still need to work at this more\")"
   ]
  },
  {
   "cell_type": "code",
   "execution_count": null,
   "metadata": {},
   "outputs": [],
   "source": [
    "#Write a programe to prompt for a score between 0.0 and 1.0 \n",
    "# if the score is out of range, print an error. \n",
    "# if the score is between  0.0 and 1.0, print a grade using the following table:\n",
    "#Score Grade\n",
    "#>= 0.9 A\n",
    "#>= 0.8 B\n",
    "#>= 0.7 C\n",
    "#>= 0.6 D\n",
    "#<0.6 F\n",
    "#If the  user enters a value out of range, \n",
    "# print a suitable error message and exit. For the test, enter a score of 0.85.\n",
    "\n",
    "score = input (\"Enter score:\")\n",
    "userScore = float(score)\n",
    "\n",
    "try:\n",
    "    if userScore >= 0.9:\n",
    "        print (\"Grade A\")\n",
    "except :\n",
    "    print (\"A Not a valid score\")\n",
    "try :\n",
    "    userScore >= 0.8\n",
    "    print (\"Grade B\")\n",
    "except :\n",
    "    print (\"B Not a valid score\")\n",
    "try:\n",
    "    userScore >=  0.7\n",
    "    print (\"C\")\n",
    "except :\n",
    "    print (\"C Not a valid score\")\n",
    "try:\n",
    "    userScore >= 0.6\n",
    "    print (\"D\")\n",
    "except :\n",
    "    print (\"D Not a valid score\")\n",
    "try:\n",
    "    userScore < 0.6\n",
    "    print (\"F\")\n",
    "except :\n",
    "    print (\"Not a valid score\")\n",
    "\n"
   ]
  },
  {
   "cell_type": "code",
   "execution_count": null,
   "metadata": {},
   "outputs": [],
   "source": [
    "score = input (\"Enter score:\")\n",
    "userScore = float(score)\n",
    "\n",
    "try:\n",
    "    if userScore >= 0.9:\n",
    "        print (\"A\")\n",
    "    elif userScore >= 0.8:\n",
    "        print (\"B\")\n",
    "    elif userScore >=  0.7:\n",
    "        print (\"C\")\n",
    "    elif userScore >= 0.6:\n",
    "        print (\"D\")\n",
    "    elif userScore < 6:\n",
    "        print (\"F\")\n",
    "except :\n",
    "    print (\"Not a valid score\")\n",
    "\n"
   ]
  },
  {
   "cell_type": "markdown",
   "metadata": {},
   "source": [
    "learing how to use the if/else statement "
   ]
  },
  {
   "cell_type": "code",
   "execution_count": null,
   "metadata": {},
   "outputs": [],
   "source": [
    "from datetime import datetime \n",
    "odds = [ 1, 3, 5, 7, 9, 11, 13, 15, 17, 19,\n",
    "        21, 23, 25, 27, 29, 31, 33, 35, 37, 39,\n",
    "        41, 43, 45, 47, 49, 51, 53, 55, 57, 59 ]\n",
    "right_this_minute = datetime.today().minute\n",
    "\n",
    "if right_this_minute in odds:\n",
    "    print (\"This minute seems a little odd. \")\n",
    "else:\n",
    "    print (\"Not an odd minute. \")"
   ]
  },
  {
   "cell_type": "markdown",
   "metadata": {},
   "source": [
    "Will use the code below to learn how to loop over for specific number of times "
   ]
  },
  {
   "cell_type": "code",
   "execution_count": null,
   "metadata": {},
   "outputs": [],
   "source": [
    "from datetime import datetime\n",
    "odds = [ 1, 3, 5, 7, 9, 11, 13, 15, 17, 19,\n",
    "        21, 23, 25, 27, 29, 31, 33, 35, 37, 39,\n",
    "        41, 43, 45, 47, 49, 51, 53, 55, 57, 59 ]\n",
    "\n",
    "for i in range (7):\n",
    "    right_this_minute = datetime.today().minute\n",
    "    if right_this_minute in odds:\n",
    "        print (\"This minute seems a little odd.\")\n",
    "    else:\n",
    "        print (\"This is NOT an odd minute.\")"
   ]
  },
  {
   "cell_type": "markdown",
   "metadata": {},
   "source": [
    "We will let the code pause for few second before execution"
   ]
  },
  {
   "cell_type": "code",
   "execution_count": null,
   "metadata": {},
   "outputs": [],
   "source": [
    "import time\n",
    "\n",
    "from datetime import datetime\n",
    "odds = [ 1, 3, 5, 7, 9, 11, 13, 15, 17, 19,\n",
    "        21, 23, 25, 27, 29, 31, 33, 35, 37, 39,\n",
    "        41, 43, 45, 47, 49, 51, 53, 55, 57, 59 ]\n",
    "\n",
    "time.sleep(10)\n",
    "\n",
    "for i in range (7):\n",
    "    right_this_minute = datetime.today().minute\n",
    "    if right_this_minute in odds:\n",
    "        print (\"This minute seems a little odd.\")\n",
    "    else:\n",
    "        print (\"This is NOT an odd minute.\")\n",
    "\n"
   ]
  },
  {
   "cell_type": "code",
   "execution_count": null,
   "metadata": {},
   "outputs": [],
   "source": [
    "# convert elevator floors\n",
    "inp = input ('Europe floor?' )\n",
    "usf = int(inp) + 1\n",
    "print ('US floor' , usf)"
   ]
  },
  {
   "cell_type": "code",
   "execution_count": null,
   "metadata": {},
   "outputs": [],
   "source": [
    "# learning how to take user input, convert into a float then produce value\n",
    "\n",
    "hours = input (\"Enter Hours:\")\n",
    "rate = input (\"Enter Rate:\")\n",
    "pay = float (hours) * float (rate)\n",
    "\n",
    "print (\"Pay:\", pay)"
   ]
  },
  {
   "cell_type": "code",
   "execution_count": null,
   "metadata": {},
   "outputs": [],
   "source": [
    "#Comparison Operators\n",
    "\n",
    "x = 5\n",
    "if x == 5 : \n",
    "    print (\"Equals 5 \")\n",
    "if x > 4 : \n",
    "    print (\"Greater than 4\")\n",
    "if x >= 5 : \n",
    "    print (\"Greater than or Equals 5\")\n",
    "if x < 6 : \n",
    "    print (\"Less than 6\")\n",
    "if x <= 5 : \n",
    "    print (\"Less than or Equals 5\")\n",
    "if x != 6 : \n",
    "    print (\"Not equal 6\")"
   ]
  },
  {
   "cell_type": "code",
   "execution_count": null,
   "metadata": {},
   "outputs": [],
   "source": [
    "name = (\"Terry\")\n",
    "\n",
    "for name in range (5):\n",
    "    if name == (\"Terry\"):\n",
    "       print (\"We found Terry\")\n",
    "    else:\n",
    "       print (\"Were is Terry\")\n",
    "\n",
    "#print (name)"
   ]
  },
  {
   "cell_type": "code",
   "execution_count": null,
   "metadata": {},
   "outputs": [],
   "source": [
    "name = (\"Terry\")\n",
    "\n",
    "for i in range (1):\n",
    "    if name == (\"Terry\"):\n",
    "        print (\"We found him...,\")\n",
    "    else:\n",
    "        print c(\"Were is Terry\")\n",
    "\n",
    "print (\"Hurrey! we found\",name+ \"!\")"
   ]
  },
  {
   "cell_type": "code",
   "execution_count": null,
   "metadata": {},
   "outputs": [],
   "source": [
    "#Multi-way conditional logic: using the elif statement\n",
    "\n",
    "x = 20\n",
    "if x < 2 :\n",
    "    print (\"x is less than 2\")\n",
    "elif x < 10:\n",
    "    print (\"x is less than 10\")\n",
    "else :\n",
    "    print (\"x is 20 and it is larger that both 2 and 10\")\n",
    "\n",
    "print (\"All done with the elif checks\")\n",
    "\n",
    "# learning catch statement and using the user input\n",
    "name = input(\"What is you name?\")\n",
    "\n",
    "if name == (\"John\"):\n",
    "    print (\"Welcome John\")\n",
    "elif name == (\"Terry\"):\n",
    "    print (\"Welcome Terry\")\n",
    "\n",
    "else:\n",
    "    print (\"Sorry Access denied\")"
   ]
  },
  {
   "cell_type": "code",
   "execution_count": null,
   "metadata": {},
   "outputs": [],
   "source": [
    "hours = input (\"Please Enter Hours:\")\n",
    "h = float(hours)\n",
    "\n",
    "rate = input (\"Please Enter Rate\")\n",
    "r = float (rate)\n",
    "\n",
    "if h <= 40:\n",
    "    print (h * 40)\n",
    "elif h > 40:\n",
    "    print (78.75 + 420)"
   ]
  },
  {
   "cell_type": "code",
   "execution_count": null,
   "metadata": {},
   "outputs": [],
   "source": [
    "#Write a programe to prompt for a score between 0.0 and 1.0 \n",
    "# if the score is out of range, print an error. \n",
    "# if the score is between  0.0 and 1.0, print a grade using the following table:\n",
    "#Score Grade\n",
    "#>= 0.9 A\n",
    "#>= 0.8 B\n",
    "#>= 0.7 C\n",
    "#>= 0.6 D\n",
    "#<0.6 F\n",
    "#If the  user enters a value out of range, \n",
    "# print a suitable error message and exit. For the test, enter a score of 0.85.\n",
    "\n",
    "score = input (\"Enter score:\")\n",
    "userScore = float(score)\n",
    "\n",
    "try:\n",
    "    if userScore >= 0.9:\n",
    "        print (\"A\")\n",
    "    elif userScore >= 0.8:\n",
    "        print (\"B\")\n",
    "    elif userScore >=  0.7:\n",
    "        print (\"C\")\n",
    "    elif userScore >= 0.6:\n",
    "        print (\"D\")\n",
    "    elif userScore < 6:\n",
    "        print (\"F\")\n",
    "except :\n",
    "    print (\"Not a valid score\")"
   ]
  },
  {
   "cell_type": "code",
   "execution_count": null,
   "metadata": {},
   "outputs": [],
   "source": [
    "# working with function\n",
    "#We create a new function using the def keyword followed by optionl \n",
    "# parameters in parentheses. We indent the body of the function\n",
    "#this defines the function but does not execute the body of the function\n",
    "\n",
    "\n",
    "def print_lyrics ():\n",
    "    print(\"I'm a lumberjack, and I'm okay.\")\n",
    "    print(\"I sleep all night and I work all day\")\n",
    "print_lyrics ()\n",
    "\n",
    "#the code above does not have any parameters. now i will add some into the paraenthese\n",
    "\n",
    "def greet (lang):\n",
    "    if lang == 'es':\n",
    "        print (\"Hola\")\n",
    "    elif lang == \"fr\":\n",
    "        print (\"Bonjour\")\n",
    "    else:\n",
    "        print (\"Hello\")\n",
    "\n",
    "greet(\"es\")"
   ]
  },
  {
   "cell_type": "code",
   "execution_count": null,
   "metadata": {},
   "outputs": [],
   "source": [
    "def addtwo (a, b):\n",
    "    added = a + b\n",
    "    return added\n",
    "\n",
    "x = addtwo (3, 5)\n",
    "print (x)\n",
    "\n",
    "#question - how do you take user input of first and lastname using a function?\n",
    "\n",
    "\n"
   ]
  },
  {
   "cell_type": "code",
   "execution_count": null,
   "metadata": {},
   "outputs": [],
   "source": [
    "def greet (lang):\n",
    "    if lang == \"es\":\n",
    "        return \"Hola\"\n",
    "    elif lang == \"fr\":\n",
    "        return \"Bonjour\"\n",
    "    else:\n",
    "        return \"Hello\"\n",
    "print (greet(\"fr\"), \"Micheal\")"
   ]
  },
  {
   "cell_type": "code",
   "execution_count": null,
   "metadata": {},
   "outputs": [],
   "source": [
    "def func (x) :\n",
    "    print (x)\n",
    "\n",
    "func (10)\n",
    "func (20)\n"
   ]
  },
  {
   "cell_type": "code",
   "execution_count": null,
   "metadata": {},
   "outputs": [],
   "source": [
    "def addtwo (a, b):\n",
    "    added = a + b\n",
    "    return a\n",
    "\n",
    "x = addtwo (2, 7)\n",
    "print (x)"
   ]
  },
  {
   "cell_type": "code",
   "execution_count": null,
   "metadata": {},
   "outputs": [],
   "source": [
    "def stuff ():\n",
    "    print (\"Hello\")\n",
    "    return\n",
    "    print (\"World\")"
   ]
  },
  {
   "cell_type": "code",
   "execution_count": null,
   "metadata": {},
   "outputs": [],
   "source": [
    "# this code is wronge \n",
    "# p is not defined therefore commentting it out\n",
    "# hrs = input(\"Enter Hours:\")\n",
    "# rate = input (\"Enter Rate:\")\n",
    "# def computepay (h, r):\n",
    "     #h = float(hrs)\n",
    "     #r = float(rate)\n",
    "     #if h <= 40:\n",
    "    #     h * r\n",
    "    # else:\n",
    "   #      p = h * r + 78.75\n",
    "#computepay(p)"
   ]
  },
  {
   "cell_type": "code",
   "execution_count": null,
   "metadata": {},
   "outputs": [],
   "source": [
    "hrs = input(\"Enter Hours:\")\n",
    "rate = input (\"Enter Rate:\")\n",
    "\n",
    "\n",
    "def computepay (h, r):\n",
    "     return (h * r)\n",
    "p = computepay (float(hrs), float(rate))\n",
    "\n",
    "if float(hrs) <= 40:\n",
    "    print(p)\n",
    "elif float(hrs) >40:\n",
    "    print (\"Pay:\", p + 26.25)"
   ]
  },
  {
   "cell_type": "code",
   "execution_count": null,
   "metadata": {},
   "outputs": [],
   "source": [
    "n = 5\n",
    "while n > 0 :\n",
    "    print (n)\n",
    "    n = n - 1\n",
    "\n",
    "print (\"No longer greater than zero\")\n",
    "print (n)"
   ]
  },
  {
   "cell_type": "code",
   "execution_count": null,
   "metadata": {},
   "outputs": [],
   "source": [
    "# this is an infinit loop that would only break if the user types done.\n",
    "\n",
    "while True:\n",
    "    line = input (\"please say something\")\n",
    "    if line == \"done\":\n",
    "        break\n",
    "    print (line)\n",
    "print (\"Done!!\")\n"
   ]
  },
  {
   "cell_type": "code",
   "execution_count": null,
   "metadata": {},
   "outputs": [],
   "source": [
    "#Definite loops\n",
    "for i in [5, 4, 3, 2, 1]:\n",
    "    print (i)\n",
    "print (\"Blastoff!\")\n",
    "print (\"*****************\")\n",
    "\n",
    "# A definite loop with strings\n",
    "\n",
    "friends = [\"Joseph\", \"Glen\", \"Sally\"]\n",
    "for friend in friends :\n",
    "    print (friend)\n",
    "print (\"Done\")\n",
    "    "
   ]
  },
  {
   "cell_type": "code",
   "execution_count": null,
   "metadata": {},
   "outputs": [],
   "source": [
    "#Looping through a set\n",
    "\n",
    "print (\"Before\")\n",
    "\n",
    "for thing in [9, 41, 12, 3, 74, 15] :\n",
    "    print (thing)\n",
    "print (\"After\")\n",
    "\n"
   ]
  },
  {
   "cell_type": "code",
   "execution_count": null,
   "metadata": {},
   "outputs": [],
   "source": [
    "# loop idioms\n",
    "# #what is the largest number? print and iterate over until found\n",
    "\n",
    "largest_so_far = -1\n",
    "print (\"Before\", largest_so_far)\n",
    "for the_sum in [9, 41, 12, 3, 74, 15] :\n",
    "    if the_sum > largest_so_far:\n",
    "        largest_so_far = the_sum\n",
    "    print (largest_so_far, the_sum)\n",
    "\n",
    "print (\"After \", largest_so_far)"
   ]
  },
  {
   "cell_type": "code",
   "execution_count": null,
   "metadata": {},
   "outputs": [],
   "source": [
    "# counting the number of times we are going to loop through \n",
    "\n",
    "zork = 0 \n",
    "print (\"Before\" , zork)\n",
    "for thing in [9, 41, 12, 3, 74, 15]:\n",
    "    zork = zork + 1\n",
    "    print (zork, thing)\n",
    "print (\"After\" , zork)\n"
   ]
  },
  {
   "cell_type": "code",
   "execution_count": null,
   "metadata": {},
   "outputs": [],
   "source": [
    "#summing in a loop during the loop the total will be the running total and at the end of the loop it will be the total\n",
    "\n",
    "zork = 0\n",
    "print (\"Befor\", zork )\n",
    "for thing in [9, 41, 12, 3, 74, 15]:\n",
    "    zork = zork + thing\n",
    "    print (zork, thing)\n",
    "print (\"After\" , zork)\n"
   ]
  },
  {
   "cell_type": "code",
   "execution_count": null,
   "metadata": {},
   "outputs": [],
   "source": [
    "#FINDING THE AVERAGE IN A LOOP\n",
    "\n",
    "count = 0\n",
    "sum = 0\n",
    "print (\"Before\", count, sum)\n",
    "for value in [9, 41, 12, 3, 74, 15]:\n",
    "    count = count + 1\n",
    "    sum = sum + value \n",
    "    print (\"After\" , count, sum / count)"
   ]
  },
  {
   "cell_type": "code",
   "execution_count": null,
   "metadata": {},
   "outputs": [],
   "source": [
    "#how to find the smallest value\n",
    "\n",
    "smallest = None\n",
    "print (\"Before\")\n",
    "for value in [9, 41, 12, 3, 74, 15]:\n",
    "    if smallest is None :\n",
    "        smallest = value\n",
    "    elif value < smallest:\n",
    "        smallest = value\n",
    "    print (smallest, value)\n",
    "print (\"After\", smallest)"
   ]
  },
  {
   "cell_type": "code",
   "execution_count": null,
   "metadata": {},
   "outputs": [],
   "source": [
    "smallest_so_far = - 1\n",
    "for the_num in [9, 41,12,3,74,15]:\n",
    "    if the_num < smallest_so_far:\n",
    "        smallest_so_far = the_num\n",
    "    print (smallest_so_far)"
   ]
  },
  {
   "cell_type": "code",
   "execution_count": null,
   "metadata": {},
   "outputs": [],
   "source": [
    "num = 0\n",
    "tot = 0.0\n",
    "while True:\n",
    "    sval = input(\"Enter a number: \")\n",
    "    if sval == \"done\":\n",
    "        break\n",
    "    try:\n",
    "        fval = float(sval)\n",
    "    except:\n",
    "        print(\"Invalid input\")\n",
    "        continue\n",
    "    print(fval)\n",
    "    num = num + 1\n",
    "    tot = tot + fval\n",
    "\n",
    "#print (\"All done\")\n",
    "print (tot, num,tot/num)"
   ]
  },
  {
   "cell_type": "code",
   "execution_count": null,
   "metadata": {},
   "outputs": [],
   "source": [
    "#write a program that repeatedly prompts a user for integer numbers until the user enters 'done'. Once 'done'\n",
    "#is entered, print out the largest and smallest of the numbers. if the user enters anything other tha a valid number catchit with a try/except and put out an appropriate message and ignore the number.\n",
    "#Enter 7,2,bob 10, and 4 and match the output below \"Invalid input\" \"Maximum is 10\" Minimum is 2\n",
    "\n",
    "\n",
    "largest = None\n",
    "smallest = None\n",
    "while True:\n",
    "    num = input (\"Enter a number: \")\n",
    "    if num ==\"done\":\n",
    "        break\n",
    "    try:\n",
    "        num = int(num)\n",
    "    except:\n",
    "        print (\"Invalid input\")\n",
    "\n",
    "#checking for the smallest number    \n",
    "for the_num in [num]:\n",
    "    if the_num < smallest:\n",
    "        smallest = the_num\n",
    "\n",
    "#checking for the largest number\n",
    "for the_num in [num]:\n",
    "    if the_num < smallest:\n",
    "        smallest = the_num\n",
    "    print (smallest, )\n",
    "    print (num)"
   ]
  },
  {
   "cell_type": "code",
   "execution_count": 12,
   "metadata": {},
   "outputs": [
    {
     "ename": "TypeError",
     "evalue": "float() argument must be a string or a real number, not 'NoneType'",
     "output_type": "error",
     "traceback": [
      "\u001b[0;31m---------------------------------------------------------------------------\u001b[0m",
      "\u001b[0;31mTypeError\u001b[0m                                 Traceback (most recent call last)",
      "\u001b[1;32m/Users/terryenigbonjaiye/LearningPython/Head_Python_Chapter_1.ipynb Cell 50'\u001b[0m in \u001b[0;36m<cell line: 12>\u001b[0;34m()\u001b[0m\n\u001b[1;32m     <a href='vscode-notebook-cell:/Users/terryenigbonjaiye/LearningPython/Head_Python_Chapter_1.ipynb#ch0000050?line=10'>11</a>\u001b[0m         \u001b[39mprint\u001b[39m (\u001b[39m\"\u001b[39m\u001b[39mInvalid input\u001b[39m\u001b[39m\"\u001b[39m)\n\u001b[1;32m     <a href='vscode-notebook-cell:/Users/terryenigbonjaiye/LearningPython/Head_Python_Chapter_1.ipynb#ch0000050?line=11'>12</a>\u001b[0m \u001b[39mfor\u001b[39;00m i \u001b[39min\u001b[39;00m num:\n\u001b[0;32m---> <a href='vscode-notebook-cell:/Users/terryenigbonjaiye/LearningPython/Head_Python_Chapter_1.ipynb#ch0000050?line=12'>13</a>\u001b[0m     \u001b[39mif\u001b[39;00m num \u001b[39m<\u001b[39m \u001b[39mfloat\u001b[39;49m(smallest):\n\u001b[1;32m     <a href='vscode-notebook-cell:/Users/terryenigbonjaiye/LearningPython/Head_Python_Chapter_1.ipynb#ch0000050?line=13'>14</a>\u001b[0m         small \u001b[39m=\u001b[39m smallest\n\u001b[1;32m     <a href='vscode-notebook-cell:/Users/terryenigbonjaiye/LearningPython/Head_Python_Chapter_1.ipynb#ch0000050?line=14'>15</a>\u001b[0m         \u001b[39mprint\u001b[39m(small)\n",
      "\u001b[0;31mTypeError\u001b[0m: float() argument must be a string or a real number, not 'NoneType'"
     ]
    }
   ],
   "source": [
    "\n",
    "largest = -1\n",
    "smallest = None\n",
    "while True:\n",
    "    num = input (\"Enter a number:\")\n",
    "    if num == \"done\":\n",
    "        break\n",
    "        continue\n",
    "    try:\n",
    "        num = int(num)\n",
    "    except:\n",
    "        print (\"Invalid input\")\n",
    "for i in num:\n",
    "    if num < float(smallest):\n",
    "        small = smallest\n",
    "        \n",
    "        print(small)\n",
    "    elif num > float (largest):\n",
    "        large = largest\n",
    "        print (large)\n",
    "\n",
    "\n",
    "#print (num, large, small)"
   ]
  },
  {
   "cell_type": "code",
   "execution_count": 15,
   "metadata": {},
   "outputs": [
    {
     "name": "stdout",
     "output_type": "stream",
     "text": [
      "[]\n"
     ]
    }
   ],
   "source": [
    "uinput = []\n",
    "while True:\n",
    "    num = input(\"Enter a number\")\n",
    "   # uinput.append(num)\n",
    "    if num == \"done\":\n",
    "        break\n",
    "        continue\n",
    "    try:\n",
    "        num = int(num)\n",
    "    except:\n",
    "        print (\" Invalid input\")\n",
    "        uinput.append(num)\n",
    "\n",
    "print (uinput)\n",
    "\n"
   ]
  }
 ],
 "metadata": {
  "interpreter": {
   "hash": "aee8b7b246df8f9039afb4144a1f6fd8d2ca17a180786b69acc140d282b71a49"
  },
  "kernelspec": {
   "display_name": "Python 3.10.4 64-bit",
   "language": "python",
   "name": "python3"
  },
  "language_info": {
   "codemirror_mode": {
    "name": "ipython",
    "version": 3
   },
   "file_extension": ".py",
   "mimetype": "text/x-python",
   "name": "python",
   "nbconvert_exporter": "python",
   "pygments_lexer": "ipython3",
   "version": "3.10.4"
  },
  "orig_nbformat": 4
 },
 "nbformat": 4,
 "nbformat_minor": 2
}
